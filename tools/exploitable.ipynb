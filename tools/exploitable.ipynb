{
 "cells": [
  {
   "cell_type": "code",
   "execution_count": 2,
   "metadata": {},
   "outputs": [],
   "source": [
    "import tools.postprocessing as pp"
   ]
  },
  {
   "cell_type": "code",
   "execution_count": 3,
   "metadata": {},
   "outputs": [],
   "source": [
    "sigs_path = \"sigs.txt\"\n",
    "sig_correct_path = \"sig_correct.txt\"\n",
    "secrets_path = \"secrets.txt\"\n",
    "logfile = \"hammer.log\""
   ]
  },
  {
   "cell_type": "code",
   "execution_count": 4,
   "metadata": {},
   "outputs": [
    {
     "name": "stdout",
     "output_type": "stream",
     "text": [
      "1\n"
     ]
    }
   ],
   "source": [
    "import glob\n",
    "import json\n",
    "import tools.postprocessing as pp\n",
    "\n",
    "sig_correct = open(sig_correct_path).readline().strip()\n",
    "# results_files = glob.glob(\"results_*.json\")\n",
    "results_files = glob.glob(\"results_2025-02-15_09-57-50.json\")\n",
    "\n",
    "for results_file in results_files:\n",
    "    j = json.load(open(results_file))\n",
    "    for x in j:\n",
    "        if x['hammer_results'] is not None:\n",
    "            sigs = set(x['hammer_results']['signatures'])\n",
    "            print(len(sigs))\n",
    "            for sig in sigs:\n",
    "                if sig != sig_correct:\n",
    "                    print(x['date'])\n",
    "                    is_exploitable = pp.is_exploitable(sig_correct, sig, secrets_path)\n",
    "                    print(f\"Exploitable: {is_exploitable}\")\n"
   ]
  },
  {
   "cell_type": "code",
   "execution_count": 25,
   "metadata": {},
   "outputs": [
    {
     "name": "stdout",
     "output_type": "stream",
     "text": [
      "Correct signature: 4ba84c7f0c2386258d1df3e780a85335e8443f43718b66d41fcf67b452b8fe06118df40e139fc1cccb8db35328a9d885aed2\n",
      "Correct signature length: 59606\n",
      "0 faulted signatures\n"
     ]
    }
   ],
   "source": [
    "# process latest experiment\n",
    "pp.process_experiment(sig_correct_path, sigs_path, secrets_path, logfile)"
   ]
  },
  {
   "cell_type": "code",
   "execution_count": 27,
   "metadata": {},
   "outputs": [
    {
     "name": "stdout",
     "output_type": "stream",
     "text": [
      "Empty DataFrame\n",
      "Columns: [ID, common_prefix_length, Faulty len, Correct len, is_exploitable]\n",
      "Index: []\n"
     ]
    }
   ],
   "source": [
    "import glob\n",
    "import pandas as pd\n",
    "import zipfile\n",
    "\n",
    "\n",
    "# Get all exploitable_*.zip files\n",
    "zip_files = glob.glob('results/*.zip')\n",
    "\n",
    "candidates = []\n",
    "for zip_filename in zip_files:\n",
    "    with zipfile.ZipFile(zip_filename, 'r') as zipf:\n",
    "        with zipf.open('sig_correct.txt') as sig_correct_file:\n",
    "            sig_correct = sig_correct_file.readline().decode('utf-8').strip()\n",
    "        with zipf.open('sig_faulty.txt') as sig_faulty_file:\n",
    "            sig_faulty = sig_faulty_file.readline().decode('utf-8').strip()\n",
    "    exploitable = pp.is_exploitable(sig_correct, sig_faulty, secrets_path)\n",
    "    common_prefix_length = pp.prefix(sig_correct, sig_faulty)\n",
    "    candidates.append([zip_filename, common_prefix_length, len(sig_faulty), len(sig_correct), exploitable])\n",
    "    \n",
    "candidates = sorted(candidates, key=lambda x: x[1], reverse=True)\n",
    "\n",
    "dataset = pd.DataFrame(candidates, columns = ['ID', 'common_prefix_length', 'Faulty len', 'Correct len', 'is_exploitable'])\n",
    "    \n",
    "print(dataset)"
   ]
  },
  {
   "cell_type": "code",
   "execution_count": 28,
   "metadata": {},
   "outputs": [
    {
     "ename": "NameError",
     "evalue": "name 'sig_faulty' is not defined",
     "output_type": "error",
     "traceback": [
      "\u001b[0;31m---------------------------------------------------------------------------\u001b[0m",
      "\u001b[0;31mNameError\u001b[0m                                 Traceback (most recent call last)",
      "Cell \u001b[0;32mIn[28], line 9\u001b[0m\n\u001b[1;32m      6\u001b[0m sig_field_widths\u001b[38;5;241m.\u001b[39mappend((\u001b[38;5;124m'\u001b[39m\u001b[38;5;124mmsg\u001b[39m\u001b[38;5;124m'\u001b[39m, \u001b[38;5;241m0\u001b[39m))\n\u001b[1;32m      8\u001b[0m i \u001b[38;5;241m=\u001b[39m \u001b[38;5;241m0\u001b[39m\n\u001b[0;32m----> 9\u001b[0m \u001b[38;5;28;01mfor\u001b[39;00m cf, cc \u001b[38;5;129;01min\u001b[39;00m \u001b[38;5;28mzip\u001b[39m(\u001b[43msig_faulty\u001b[49m, sig_correct):\n\u001b[1;32m     10\u001b[0m     \u001b[38;5;28;01mif\u001b[39;00m cf \u001b[38;5;241m!=\u001b[39m cc:\n\u001b[1;32m     11\u001b[0m         \u001b[38;5;28mprint\u001b[39m(\u001b[38;5;124mf\u001b[39m\u001b[38;5;124m\"\u001b[39m\u001b[38;5;124mBit \u001b[39m\u001b[38;5;132;01m{\u001b[39;00mi\u001b[38;5;132;01m}\u001b[39;00m\u001b[38;5;124m differs: \u001b[39m\u001b[38;5;132;01m{\u001b[39;00mcf\u001b[38;5;132;01m}\u001b[39;00m\u001b[38;5;124m != \u001b[39m\u001b[38;5;132;01m{\u001b[39;00mcc\u001b[38;5;132;01m}\u001b[39;00m\u001b[38;5;124m\"\u001b[39m)\n",
      "\u001b[0;31mNameError\u001b[0m: name 'sig_faulty' is not defined"
     ]
    }
   ],
   "source": [
    "# Analyze faulty sig\n",
    "\n",
    "sig_field_widths = [('H(m)', 32), ('FORS', 10560)]\n",
    "for i in range(8):\n",
    "    sig_field_widths.append((f'WOTS{i}', 2400))\n",
    "sig_field_widths.append(('msg', 0))\n",
    "\n",
    "i = 0\n",
    "for cf, cc in zip(sig_faulty, sig_correct):\n",
    "    if cf != cc:\n",
    "        print(f\"Bit {i} differs: {cf} != {cc}\")\n",
    "        for field, width in sig_field_widths:\n",
    "            if i < width:\n",
    "                print(f\"Bit {i} is in field {field}\")\n",
    "                break\n",
    "            print(f\"{i} -= {width}\")\n",
    "            i -= width\n",
    "        else:\n",
    "            print(f\"Bit {i} is in field msg\")\n",
    "            continue\n",
    "        break\n",
    "    i += 1/2"
   ]
  }
 ],
 "metadata": {
  "kernelspec": {
   "display_name": ".venv",
   "language": "python",
   "name": "python3"
  },
  "language_info": {
   "codemirror_mode": {
    "name": "ipython",
    "version": 3
   },
   "file_extension": ".py",
   "mimetype": "text/x-python",
   "name": "python",
   "nbconvert_exporter": "python",
   "pygments_lexer": "ipython3",
   "version": "3.10.12"
  }
 },
 "nbformat": 4,
 "nbformat_minor": 2
}
