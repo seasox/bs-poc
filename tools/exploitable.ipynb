{
 "cells": [
  {
   "cell_type": "code",
   "execution_count": null,
   "metadata": {},
   "outputs": [],
   "source": [
    "sig_correct_path = \"../sig_correct.txt\"\n",
    "secrets_path = \"../secrets.txt\"\n",
    "logfile = \"hammer.log\""
   ]
  },
  {
   "cell_type": "code",
   "execution_count": null,
   "metadata": {},
   "outputs": [],
   "source": [
    "def analyze_faulty_sig(sig_correct, sig_faulty):\n",
    "    # Analyze faulty sig\n",
    "    sig_field_widths = [('H(m)', 32), ('FORS', 10560)] + [(f'WOTS{i}', 2400) for i in range(8)] + [('msg', 0)]\n",
    "    i = 0\n",
    "    for cf, cc in zip(sig_faulty, sig_correct):\n",
    "        if cf != cc:\n",
    "            print(f\"Bit {i} differs: {cf} != {cc}\")\n",
    "            for field, width in sig_field_widths:\n",
    "                if i < width:\n",
    "                    print(f\"Bit {i} is in field {field}\")\n",
    "                    break\n",
    "                # print(f\"{i} -= {width}\")\n",
    "                i -= width\n",
    "            else:\n",
    "                print(f\"Bit {i} is in field msg\")\n",
    "                continue\n",
    "            break\n",
    "        i += 1/2"
   ]
  },
  {
   "cell_type": "code",
   "execution_count": null,
   "metadata": {},
   "outputs": [],
   "source": [
    "import glob\n",
    "import json\n",
    "import postprocessing as pp\n",
    "\n",
    "sig_correct = open(sig_correct_path).readline().strip()\n",
    "#results_files = glob.glob(\"../results/results_*.json\")\n",
    "results_files = glob.glob(\"../results/results_2025-03-12_14-30-56.json\")\n",
    "\n",
    "for results_file in results_files:\n",
    "    j = json.load(open(results_file))\n",
    "    if 'experiments' not in j:\n",
    "        print(f'Skipping {results_file}')\n",
    "        continue\n",
    "    j = j['experiments']\n",
    "    for x in j:\n",
    "        print(x)\n",
    "        for result in x['results']:\n",
    "            if 'Ok' in result:\n",
    "                sig = result['Ok']['victim_result']['String'].strip()\n",
    "                if sig != sig_correct:\n",
    "                    print(x['date'])\n",
    "                    is_exploitable = pp.is_exploitable(sig_correct, sig, secrets_path)\n",
    "                    print(f\"Exploitable: {is_exploitable}\")\n",
    "                    if is_exploitable:\n",
    "                        analyze_faulty_sig(sig_correct, sig)\n"
   ]
  },
  {
   "cell_type": "code",
   "execution_count": null,
   "metadata": {},
   "outputs": [],
   "source": [
    "import glob\n",
    "import pandas as pd\n",
    "import zipfile\n",
    "\n",
    "\n",
    "# Get all exploitable_*.zip files\n",
    "zip_files = glob.glob('results/*.zip')\n",
    "\n",
    "candidates = []\n",
    "for zip_filename in zip_files:\n",
    "    with zipfile.ZipFile(zip_filename, 'r') as zipf:\n",
    "        with zipf.open('sig_correct.txt') as sig_correct_file:\n",
    "            sig_correct = sig_correct_file.readline().decode('utf-8').strip()\n",
    "        with zipf.open('sig_faulty.txt') as sig_faulty_file:\n",
    "            sig_faulty = sig_faulty_file.readline().decode('utf-8').strip()\n",
    "    exploitable = pp.is_exploitable(sig_correct, sig_faulty, secrets_path)\n",
    "    common_prefix_length = pp.prefix(sig_correct, sig_faulty)\n",
    "    candidates.append([zip_filename, common_prefix_length, len(sig_faulty), len(sig_correct), exploitable])\n",
    "    \n",
    "candidates = sorted(candidates, key=lambda x: x[1], reverse=True)\n",
    "\n",
    "dataset = pd.DataFrame(candidates, columns = ['ID', 'common_prefix_length', 'Faulty len', 'Correct len', 'is_exploitable'])\n",
    "    \n",
    "print(dataset)"
   ]
  }
 ],
 "metadata": {
  "kernelspec": {
   "display_name": ".venv",
   "language": "python",
   "name": "python3"
  },
  "language_info": {
   "codemirror_mode": {
    "name": "ipython",
    "version": 3
   },
   "file_extension": ".py",
   "mimetype": "text/x-python",
   "name": "python",
   "nbconvert_exporter": "python",
   "pygments_lexer": "ipython3",
   "version": "3.10.12"
  }
 },
 "nbformat": 4,
 "nbformat_minor": 2
}
