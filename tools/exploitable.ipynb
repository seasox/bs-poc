{
 "cells": [
  {
   "cell_type": "code",
   "execution_count": null,
   "metadata": {},
   "outputs": [],
   "source": [
    "sig_correct_path = \"../sig_correct.txt\"\n",
    "secrets_path = \"../secrets.txt\"\n",
    "logfile = \"hammer.log\""
   ]
  },
  {
   "cell_type": "code",
   "execution_count": null,
   "metadata": {},
   "outputs": [],
   "source": [
    "def analyze_faulty_sig(sig_correct, sig_faulty) -> str:\n",
    "    # Analyze faulty sig\n",
    "    sig_field_widths = [('H(m)', 32), ('FORS', 10560)] + [(f'WOTS{i}', 2400) for i in range(8)] + [('msg', 0)]\n",
    "    i = 0\n",
    "    f = None\n",
    "    for cf, cc in zip(sig_faulty, sig_correct):\n",
    "        if cf != cc:\n",
    "            print(f\"Bit {i} differs: {cf} != {cc}\")\n",
    "            for field, width in sig_field_widths:\n",
    "                if i < width:\n",
    "                    print(f\"Bit {i} is in field {field}\")\n",
    "                    f = field\n",
    "                    return f\n",
    "                # print(f\"{i} -= {width}\")\n",
    "                i -= width\n",
    "            else:\n",
    "                print(f\"Bit {i} is in field msg\")\n",
    "                return \"msg\"\n",
    "        i += 1/2\n",
    "    return f"
   ]
  },
  {
   "cell_type": "code",
   "execution_count": null,
   "metadata": {},
   "outputs": [],
   "source": [
    "sigs = \"../sigs.txt\"\n",
    "#sig_correct = open(sig_correct_path).readline().strip()\n",
    "\n",
    "from collections import Counter\n",
    "\n",
    "with open(sigs) as f:\n",
    "    lines = f.readlines()\n",
    "    sig_correct = [line for line in lines if line.startswith(\"[CORRECT]\")]\n",
    "    assert len(sig_correct) >= 1, \"There should be at least one correct signature\"\n",
    "    sig_correct = sig_correct[0][len(\"[CORRECT] \"):].strip()\n",
    "    faulty = [line[len(\"[FAULTY] \"):].strip() for line in lines if line.startswith(\"[FAULTY]\")]\n",
    "    lines = Counter(faulty)\n",
    "    for line in lines:\n",
    "        sig = line.strip()\n",
    "        assert sig != sig_correct, \"Signature should not be correct\"\n",
    "        import postprocessing as pp\n",
    "        import hashlib\n",
    "        is_expl = pp.is_exploitable(sig_correct, sig, secrets_path)\n",
    "        sha256_hash = hashlib.sha256(sig.encode()).hexdigest()\n",
    "        print(f\"{sha256_hash} ({lines[line]}x) exploitable: {is_expl}\")\n",
    "        if is_expl:\n",
    "            analyze_faulty_sig(sig_correct, sig)"
   ]
  },
  {
   "cell_type": "code",
   "execution_count": null,
   "metadata": {},
   "outputs": [],
   "source": [
    "import glob\n",
    "import pandas as pd\n",
    "import zipfile\n",
    "\n",
    "\n",
    "# Get all exploitable_*.zip files\n",
    "zip_files = glob.glob('results/*.zip')\n",
    "\n",
    "candidates = []\n",
    "for zip_filename in zip_files:\n",
    "    with zipfile.ZipFile(zip_filename, 'r') as zipf:\n",
    "        with zipf.open('sig_correct.txt') as sig_correct_file:\n",
    "            sig_correct = sig_correct_file.readline().decode('utf-8').strip()\n",
    "        with zipf.open('sig_faulty.txt') as sig_faulty_file:\n",
    "            sig_faulty = sig_faulty_file.readline().decode('utf-8').strip()\n",
    "    exploitable = pp.is_exploitable(sig_correct, sig_faulty, secrets_path)\n",
    "    common_prefix_length = pp.prefix(sig_correct, sig_faulty)\n",
    "    candidates.append([zip_filename, common_prefix_length, len(sig_faulty), len(sig_correct), exploitable])\n",
    "    \n",
    "candidates = sorted(candidates, key=lambda x: x[1], reverse=True)\n",
    "\n",
    "dataset = pd.DataFrame(candidates, columns = ['ID', 'common_prefix_length', 'Faulty len', 'Correct len', 'is_exploitable'])\n",
    "    \n",
    "print(dataset)"
   ]
  }
 ],
 "metadata": {
  "kernelspec": {
   "display_name": ".venv",
   "language": "python",
   "name": "python3"
  },
  "language_info": {
   "codemirror_mode": {
    "name": "ipython",
    "version": 3
   },
   "file_extension": ".py",
   "mimetype": "text/x-python",
   "name": "python",
   "nbconvert_exporter": "python",
   "pygments_lexer": "ipython3",
   "version": "3.10.12"
  }
 },
 "nbformat": 4,
 "nbformat_minor": 2
}
