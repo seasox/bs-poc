{
 "cells": [
  {
   "cell_type": "code",
   "execution_count": null,
   "id": "7e301996",
   "metadata": {},
   "outputs": [],
   "source": [
    "%pip install -r requirements.txt"
   ]
  },
  {
   "cell_type": "code",
   "execution_count": null,
   "id": "0b682cbb",
   "metadata": {},
   "outputs": [],
   "source": [
    "base = \"../\"\n",
    "#base = \"../victims/sphincsplus/ref/\"\n",
    "keys_file = base + \"keys.txt\"\n",
    "sigs_file = base + \"sigs.txt\""
   ]
  },
  {
   "cell_type": "code",
   "execution_count": null,
   "id": "3458976f",
   "metadata": {},
   "outputs": [],
   "source": [
    "import fips205"
   ]
  },
  {
   "cell_type": "code",
   "execution_count": null,
   "id": "917d1671",
   "metadata": {},
   "outputs": [],
   "source": [
    "def print_adrs(adrs: fips205.ADRS, end='\\n'):\n",
    "    hex = adrs.adrs().hex()\n",
    "    print(' '.join([hex[i:i+8] for i in range(0, len(hex), 8)]), end=' ')\n",
    "    print(end=end)"
   ]
  },
  {
   "cell_type": "code",
   "execution_count": null,
   "id": "2b27b888",
   "metadata": {},
   "outputs": [],
   "source": [
    "with open(sigs_file, \"r\") as f:\n",
    "    sigs = [bytes.fromhex(s.strip()) for s in f.readlines()]\n",
    "    #sigs = [(s[0], bytes.fromhex(s[1])) for s in sigs]\n",
    "    #sigs_correct = [s[1] for s in sigs if s[0] == '[CORRECT]']\n",
    "    #sigs_faulty = [s[1] for s in sigs if s[0] == '[FAULTY]']\n",
    "print(f\"Loaded {len(sigs)} signatures\")"
   ]
  },
  {
   "cell_type": "code",
   "execution_count": null,
   "id": "574fa0e5",
   "metadata": {},
   "outputs": [],
   "source": [
    "def group_keys_by_addr(self: fips205.SLH_DSA, pk: bytes, sigs: list[bytes]) -> dict[fips205.ADRS, list[fips205.WOTSKeyData]]:\n",
    "    # we assume SPHINCS-SHAKE-256s\n",
    "    a = self.a\n",
    "    d = self.d\n",
    "    hp = self.hp\n",
    "    n = self.n\n",
    "    k = self.k\n",
    "    wots_len = self.len\n",
    "    wots_bytes = wots_len * n\n",
    "    xmss_bytes = hp * n\n",
    "    fors_bytes = k*(n+a*n) # 10560\n",
    "    print(\"WOTS bytes:\", wots_bytes)\n",
    "    print(\"XMSS bytes:\", xmss_bytes)\n",
    "    print(\"FORS bytes:\", fors_bytes)\n",
    "    sig_len = n + fors_bytes + d * (wots_bytes + xmss_bytes)\n",
    "    # sig_fields = [('R', n), ('FORS', fors_bytes)] + [[(f'WOTS{i}', wots_bytes), (f'XMSS{i}', xmss_bytes)] for i in range(8)] + [('msg', 0)]\n",
    "    \n",
    "    pk_seed = pk[:n]\n",
    "    pk_root = pk[n:]\n",
    "    print(\"pk_seed:\", pk_seed.hex())\n",
    "    print(\"pk_root:\", pk_root.hex())\n",
    "    for sig in sigs:\n",
    "        m = sig[sig_len:]\n",
    "        sig = sig[:sig_len]\n",
    "        wots_keys_before = self.wots_keys.copy()\n",
    "        valid = self.slh_verify_internal(m, sig, pk)\n",
    "        wots_keys_after = self.wots_keys\n",
    "        for key, value in wots_keys_after.items():\n",
    "            old_values = wots_keys_before[key] if key in wots_keys_before else []\n",
    "            if old_values != value:\n",
    "                new_vals = [v for v in value if v not in old_values]\n",
    "                for v in new_vals:\n",
    "                    v.valid = valid\n",
    "    return self.wots_keys"
   ]
  },
  {
   "cell_type": "code",
   "execution_count": null,
   "id": "c5267d42",
   "metadata": {},
   "outputs": [],
   "source": [
    "with open(keys_file, \"r\") as f:\n",
    "    lines = [s.split(': ') for s in f.readlines()]\n",
    "    keys = {s[0]: bytes.fromhex(s[1].strip()) for s in lines}\n",
    "keys"
   ]
  },
  {
   "cell_type": "code",
   "execution_count": null,
   "id": "f23d60a9",
   "metadata": {},
   "outputs": [],
   "source": [
    "slh_dsa = fips205.SLH_DSA('SLH-DSA-SHAKE-256s')\n",
    "pk = keys['pk']\n",
    "pk_seed = pk[:slh_dsa.n]\n",
    "pk_root = pk[slh_dsa.n:]\n",
    "groups = group_keys_by_addr(slh_dsa, keys['pk'], sigs)\n",
    "\n",
    "slh_dsa = fips205.SLH_DSA('SLH-DSA-SHAKE-256s')\n",
    "groups = sorted(groups.items(), key=lambda item: len(item[1]), reverse=True)\n",
    "groups = [(adrs, value) for adrs, value in groups if len(value) > 1]\n",
    "print(f\"Found {len(groups)} groups with collisions\")\n",
    "for adrs, value in groups:\n",
    "    # print key.hex(), add whitespace every 4 bytes\n",
    "    print_adrs(adrs, end='')\n",
    "    print(len(value))\n",
    "    pks = []\n",
    "    for v in value:\n",
    "        print(\"Valid\" if v.valid else \"Invalid\", end='\\t')\n",
    "        wots_pk = slh_dsa.wots_pk_from_sig(v.sig, v.msg, pk_seed, adrs)\n",
    "        print(v.sig.hex(), wots_pk.hex())\n",
    "        print('\\t', end='')\n",
    "        for chain_idx in v.msg:\n",
    "            print(f\"{chain_idx}\", end=' ')\n",
    "        print()"
   ]
  },
  {
   "cell_type": "code",
   "execution_count": null,
   "id": "b2ebb66d",
   "metadata": {},
   "outputs": [],
   "source": [
    "import fips205 as sp\n",
    "import postprocessing as pp\n",
    "\n",
    "inst = 'SLH-DSA-SHAKE-256s'\n",
    "instance = sp.SLH_DSA_PARAM[inst]\n",
    "\n",
    "n = instance[1]\n",
    "\n",
    "#keys = pp.read_keys(\"../victims/sphincsplus/ref/keys.txt\")\n",
    "#sk = keys[\"sk\"]\n",
    "#pk = keys[\"pk\"]\n",
    "#sk_seed = sk[:n]\n",
    "#sk_prf = sk[n:2*n]\n",
    "#pk_seed = pk[:n]\n",
    "#pk_root = pk[n:]\n",
    "sk_seed = bytes.fromhex(\"e17e72290e49a44c9c534f211195257cf13b0d45405782ceda2d7f982a551721\")\n",
    "sk_prf = bytes.fromhex(\"b47cfcf1b7764296d81055df05ff8295e4641ad9aa2db29b7b678e788bb8ea62\")\n",
    "pk_seed = bytes.fromhex(\"0847487e02a874ef8feee587f5359dfcd722f10e1cb50ac538d74320a5bfd242\")\n",
    "pk_root = bytes.fromhex(\"a9375b1b113255ce32578768690cd17431de27c356de7c7f34c057d81327b746\")\n",
    "print(\"sk_seed\", sk_seed.hex())\n",
    "print(\"sk_prf\", sk_prf.hex())\n",
    "print(\"pk_seed\", pk_seed.hex())\n",
    "print(\"pk_root\", pk_root.hex())\n",
    "slh_dsa = sp.SLH_DSA(inst)\n",
    "(pk, sk) = slh_dsa.slh_keygen_internal(\n",
    "    sk_seed=sk_seed,\n",
    "    sk_prf=sk_prf,\n",
    "    pk_seed=pk_seed,\n",
    "    param=inst)\n",
    "print(\"keygen done\")\n",
    "print(\"sk\", sk.hex())\n",
    "print(\"pk\", pk.hex())"
   ]
  }
 ],
 "metadata": {
  "kernelspec": {
   "display_name": ".venv",
   "language": "python",
   "name": "python3"
  },
  "language_info": {
   "codemirror_mode": {
    "name": "ipython",
    "version": 3
   },
   "file_extension": ".py",
   "mimetype": "text/x-python",
   "name": "python",
   "nbconvert_exporter": "python",
   "pygments_lexer": "ipython3",
   "version": "3.10.12"
  }
 },
 "nbformat": 4,
 "nbformat_minor": 5
}
