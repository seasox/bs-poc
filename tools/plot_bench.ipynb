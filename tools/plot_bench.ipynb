{
 "cells": [
  {
   "cell_type": "code",
   "execution_count": 17,
   "metadata": {},
   "outputs": [
    {
     "name": "stdout",
     "output_type": "stream",
     "text": [
      "Requirement already satisfied: matplotlib in /home/jb/rowhammer-jb/bs-poc/.venv/lib/python3.10/site-packages (3.10.1)\n",
      "Requirement already satisfied: numpy in /home/jb/rowhammer-jb/bs-poc/.venv/lib/python3.10/site-packages (2.2.3)\n",
      "Requirement already satisfied: contourpy>=1.0.1 in /home/jb/rowhammer-jb/bs-poc/.venv/lib/python3.10/site-packages (from matplotlib) (1.3.1)\n",
      "Requirement already satisfied: cycler>=0.10 in /home/jb/rowhammer-jb/bs-poc/.venv/lib/python3.10/site-packages (from matplotlib) (0.12.1)\n",
      "Requirement already satisfied: fonttools>=4.22.0 in /home/jb/rowhammer-jb/bs-poc/.venv/lib/python3.10/site-packages (from matplotlib) (4.56.0)\n",
      "Requirement already satisfied: kiwisolver>=1.3.1 in /home/jb/rowhammer-jb/bs-poc/.venv/lib/python3.10/site-packages (from matplotlib) (1.4.8)\n",
      "Requirement already satisfied: packaging>=20.0 in /home/jb/rowhammer-jb/bs-poc/.venv/lib/python3.10/site-packages (from matplotlib) (24.2)\n",
      "Requirement already satisfied: pillow>=8 in /home/jb/rowhammer-jb/bs-poc/.venv/lib/python3.10/site-packages (from matplotlib) (11.1.0)\n",
      "Requirement already satisfied: pyparsing>=2.3.1 in /home/jb/rowhammer-jb/bs-poc/.venv/lib/python3.10/site-packages (from matplotlib) (3.2.1)\n",
      "Requirement already satisfied: python-dateutil>=2.7 in /home/jb/rowhammer-jb/bs-poc/.venv/lib/python3.10/site-packages (from matplotlib) (2.9.0.post0)\n",
      "Requirement already satisfied: six>=1.5 in /home/jb/rowhammer-jb/bs-poc/.venv/lib/python3.10/site-packages (from python-dateutil>=2.7->matplotlib) (1.17.0)\n",
      "Note: you may need to restart the kernel to use updated packages.\n"
     ]
    }
   ],
   "source": [
    "%pip install matplotlib numpy"
   ]
  },
  {
   "cell_type": "code",
   "execution_count": 18,
   "metadata": {},
   "outputs": [
    {
     "name": "stdout",
     "output_type": "stream",
     "text": [
      "Experiment: targetcheck (N=1000)\n",
      "  Successful runs: 36\n",
      "  Average Bit Flips: 0.036\n",
      "  Median Bit Flips: 0.0\n",
      "  Maximum Bit Flips: 1\n",
      "  Minimum Bit Flips: 0\n",
      "  Standard Deviation of Bit Flips: 0.18629009635512025\n",
      "\n",
      "Experiment: devmemcheck (N=1000)\n",
      "  Successful runs: 0\n",
      "  Average Bit Flips: 0.0\n",
      "  Median Bit Flips: 0.0\n",
      "  Maximum Bit Flips: 0\n",
      "  Minimum Bit Flips: 0\n",
      "  Standard Deviation of Bit Flips: 0.0\n",
      "\n",
      "Experiment: memcheck (N=1000)\n",
      "  Successful runs: 28\n",
      "  Average Bit Flips: 0.028\n",
      "  Median Bit Flips: 0.0\n",
      "  Maximum Bit Flips: 1\n",
      "  Minimum Bit Flips: 0\n",
      "  Standard Deviation of Bit Flips: 0.16497272501841023\n",
      "\n"
     ]
    }
   ],
   "source": [
    "import matplotlib.pyplot as plt\n",
    "import re\n",
    "import numpy as np\n",
    "\n",
    "# Parsing the input data\n",
    "def parse_data(data):\n",
    "    experiment_data = {}\n",
    "    current_experiment = None\n",
    "\n",
    "    for line in data.splitlines():\n",
    "        if not line.startswith(\"RoundProfile\"):\n",
    "            current_experiment = line\n",
    "            experiment_data[current_experiment] = []\n",
    "        elif \"bit_flips\" in line:\n",
    "            match = re.search(r\"bit_flips: \\[(.*?)\\]\", line)\n",
    "            if match:\n",
    "                flips = match.group(1)\n",
    "                #print(flips)\n",
    "                num_flips = flips.count(\"addr:\")  # Count occurrences of \"addr\" to determine the number of flips\n",
    "                experiment_data[current_experiment].append(num_flips)\n",
    "\n",
    "    return experiment_data\n",
    "\n",
    "# Plotting the data\n",
    "def plot_data(experiment_data):\n",
    "    plt.figure(figsize=(10, 6))\n",
    "\n",
    "    for experiment, bit_flips in experiment_data.items():\n",
    "        plt.bar(\n",
    "            range(0, len(bit_flips)),\n",
    "            bit_flips,\n",
    "            label=experiment,\n",
    "            width=2,\n",
    "            align='edge'\n",
    "        )\n",
    "\n",
    "        plt.title(\"Number of Bit Flips per Round by Experiment\")\n",
    "        plt.xlabel(\"Round Number\")\n",
    "        plt.ylabel(\"Number of Bit Flips\")\n",
    "        plt.legend()\n",
    "        plt.grid(True)\n",
    "        for i in range(0,len(bit_flips)):\n",
    "            plt.axvline(x=i, color='gray', linestyle='--', linewidth=0.5)\n",
    "            \n",
    "        plt.tight_layout()\n",
    "        plt.show()\n",
    "        \n",
    "def print_stats(experiment_data):\n",
    "    # Calculate statistics\n",
    "    for experiment, bit_flips in experiment_data.items():\n",
    "        std_dev_flips = np.std(bit_flips) if bit_flips else 0\n",
    "        avg_flips = sum(bit_flips) / len(bit_flips) if bit_flips else 0\n",
    "        median_flips = np.median(bit_flips) if bit_flips else 0\n",
    "        max_flips = max(bit_flips) if bit_flips else 0\n",
    "        min_flips = min(bit_flips) if bit_flips else 0\n",
    "\n",
    "        print(f\"Experiment: {experiment} (N={len(bit_flips)})\")\n",
    "        print(f\"  Successful runs: {len([1 for x in bit_flips if x != 0])}\")\n",
    "        print(f\"  Average Bit Flips: {avg_flips}\")\n",
    "        print(f\"  Median Bit Flips: {median_flips}\")\n",
    "        print(f\"  Maximum Bit Flips: {max_flips}\")\n",
    "        print(f\"  Minimum Bit Flips: {min_flips}\")\n",
    "        print(f\"  Standard Deviation of Bit Flips: {std_dev_flips}\")\n",
    "        print()\n",
    "\n",
    "# Reading data from bench.txt\n",
    "with open('../bench1000.txt', 'r') as file:\n",
    "    sample_data = file.read()\n",
    "\n",
    "# Main execution\n",
    "experiment_data = parse_data(sample_data)\n",
    "#plot_data(experiment_data)\n",
    "\n",
    "print_stats(experiment_data)\n",
    "\n"
   ]
  }
 ],
 "metadata": {
  "kernelspec": {
   "display_name": ".venv",
   "language": "python",
   "name": "python3"
  },
  "language_info": {
   "codemirror_mode": {
    "name": "ipython",
    "version": 3
   },
   "file_extension": ".py",
   "mimetype": "text/x-python",
   "name": "python",
   "nbconvert_exporter": "python",
   "pygments_lexer": "ipython3",
   "version": "3.10.12"
  }
 },
 "nbformat": 4,
 "nbformat_minor": 2
}
