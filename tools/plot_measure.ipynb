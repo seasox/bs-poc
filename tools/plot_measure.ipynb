{
 "cells": [
  {
   "cell_type": "code",
   "execution_count": null,
   "metadata": {},
   "outputs": [],
   "source": [
    "%pip install numpy matplotlib\n",
    "import matplotlib.pyplot as plt\n",
    "import numpy as np"
   ]
  },
  {
   "cell_type": "code",
   "execution_count": null,
   "metadata": {},
   "outputs": [],
   "source": [
    "meas = open(\"measure.log\", \"r\").readlines()[1:]\n",
    "meas = [int(m) for m in meas]\n",
    "meas = np.array(meas)"
   ]
  },
  {
   "cell_type": "code",
   "execution_count": null,
   "metadata": {},
   "outputs": [],
   "source": [
    "meas = sorted(meas)\n",
    "meas.reverse()\n",
    "print(meas[:50])\n",
    "\n",
    "print(f\"Mean: {np.mean(meas)}\")\n",
    "print(f\"Median: {np.median(meas)}\")\n",
    "\n",
    "meas_filt = [m for m in meas if m < 1000]\n",
    "meas_filt = np.array(meas_filt)\n",
    "\n",
    "print(f\"Mean (filtered): {np.mean(meas_filt)}\")\n",
    "print(f\"Median (filtered): {np.median(meas_filt)}\")"
   ]
  },
  {
   "cell_type": "code",
   "execution_count": null,
   "metadata": {},
   "outputs": [],
   "source": [
    "# Plot a histogram\n",
    "meas = meas_filt\n",
    "bins = sorted(set(meas))\n",
    "plt.hist(meas, bins=bins, alpha=0.7, color='blue', edgecolor='black')\n",
    "\n",
    "plt.ticklabel_format(style='plain', axis='both')\n",
    "\n",
    "# Add titles and labels\n",
    "plt.title('Histogram of Measurements')\n",
    "plt.xlabel('Measurement Value')\n",
    "plt.ylabel('Frequency')\n",
    "\n",
    "# Show the plot\n",
    "plt.show()"
   ]
  }
 ],
 "metadata": {
  "kernelspec": {
   "display_name": ".venv",
   "language": "python",
   "name": "python3"
  },
  "language_info": {
   "codemirror_mode": {
    "name": "ipython",
    "version": 3
   },
   "file_extension": ".py",
   "mimetype": "text/x-python",
   "name": "python",
   "nbconvert_exporter": "python",
   "pygments_lexer": "ipython3",
   "version": "3.10.12"
  }
 },
 "nbformat": 4,
 "nbformat_minor": 2
}
