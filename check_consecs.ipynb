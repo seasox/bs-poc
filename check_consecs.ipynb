{
 "cells": [
  {
   "cell_type": "code",
   "execution_count": null,
   "metadata": {},
   "outputs": [],
   "source": [
    "import re\n",
    "\n",
    "\n",
    "f = open(\"bait_alloc.log\", \"r\")\n",
    "\n",
    "pattern = r'a consecutive \\b(\\d+)\\s*KB\\b block'\n",
    "\n",
    "blocks = []\n",
    "for line in f.readlines():\n",
    "    match = re.search(pattern, line)\n",
    "    if match:\n",
    "        blocks.append(int(match.group(1)))\n",
    "        \n",
    "blocks"
   ]
  },
  {
   "cell_type": "code",
   "execution_count": null,
   "metadata": {},
   "outputs": [],
   "source": [
    "limit = 512\n",
    "\n",
    "above = len([x for x in blocks if x >= limit])\n",
    "below = len([x for x in blocks if x < limit])\n",
    "\n",
    "print(f'Success ratio (>= {limit}): {above/(above+below)}')"
   ]
  },
  {
   "cell_type": "code",
   "execution_count": null,
   "metadata": {},
   "outputs": [],
   "source": [
    "import matplotlib.pyplot as plt\n",
    "from collections import Counter\n",
    "\n",
    "# Count occurrences of each unique value\n",
    "counts = Counter(blocks)\n",
    "\n",
    "# Separate values and counts for plotting\n",
    "values = list(counts.keys())\n",
    "counts = list(counts.values())\n",
    "\n",
    "# Create a bar plot\n",
    "plt.bar(values, counts, width=200)\n",
    "\n",
    "# Add labels and title\n",
    "plt.xlabel('Consecutive block (KB)')\n",
    "plt.ylabel('Number of allocations')\n",
    "plt.title(f'bait_alloc (n={len(blocks)})')\n",
    "\n",
    "# Show the plot\n",
    "plt.show()"
   ]
  }
 ],
 "metadata": {
  "kernelspec": {
   "display_name": "venv",
   "language": "python",
   "name": "python3"
  },
  "language_info": {
   "codemirror_mode": {
    "name": "ipython",
    "version": 3
   },
   "file_extension": ".py",
   "mimetype": "text/x-python",
   "name": "python",
   "nbconvert_exporter": "python",
   "pygments_lexer": "ipython3",
   "version": "3.10.12"
  }
 },
 "nbformat": 4,
 "nbformat_minor": 2
}
