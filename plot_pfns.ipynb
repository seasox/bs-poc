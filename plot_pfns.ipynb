{
 "cells": [
  {
   "cell_type": "code",
   "execution_count": null,
   "metadata": {},
   "outputs": [],
   "source": [
    "bait_alloc_output = \"860b2000,860b7000,58150000,5815f000,20b70000,20cc5000,10975c000,10975c000,121126000,121126000,1273e1000,1273e1000,116429000,116429000,1289ad000,1289ad000,1130db000,1130db000,130fb6000,130fb6000,12f074000,12f074000,12eca4000,12eca4000,12ea65000,12ea65000,12eacf000,12eacf000,137484000,137484000,13136e000,13136e000,114aeb000,114aeb000,12295e000,12295e000,124dc0000,124dc0000,1308a9000,1308a9000,1364fc000,1364fc000,1364f4000,1364f4000,1169c1000,1169c1000,12644b000,12644b000,1265fc000,1265fc000,113183000,113183000,11faff000,11faff000,128b2c000,128b2c000,119044000,119044000,127ba0000,127ba0000,13549b000,13549b000,119195000,119195000,139fdb000,139fdb000,122d12000,122d12000,12aaac000,12aaac000,12e3e5000,12e3e5000,12d1d5000,12d1d5000,126455000,126455000,1336fc000,1336fc000,118a59000,118a59000,1191e1000,1191e1000,1376e4000,1376e4000,13809d000,13809d000,1140fb000,1140fb000,115d0b000,115d0b000,11ffaa000,11ffaa000,1227dd000,1227dd000,11e62f000,11e62f000,116ad3000,116ad3000,117928000,117928000,130551000,130551000,126d75000,126d75000,132df4000,132df4000,12c24c000,12c24c000,116893000,116893000,10ef91000,10ef91000,116889000,116889000,125ac9000,125ac9000,11c022000,11c022000,1132a4000,1132a4000,113344000,113344000,129b49000,129b49000,129fd6000,129fd6000,1260f0000,1260f0000,1153d6000,1153d6000,1225a5000,1225a5000,11c9d7000,11c9d7000,11b791000,11b791000,127d2e000,127d2e000,11dbc7000,11dbc7000,13529c000,13529c000,124aa4000,124aa4000,11dcf2000,11dcf2000,124181000,124181000,12f11d000,12f11d000,12dd58000,12dd58000,12a0b8000,12a0b8000,11dd55000,11dd55000,1167dc000,1167dc000,128349000,128349000,129b2b000,129b2b000,11d861000,11d861000,115055000,115055000,12feda000,12feda000,11b79c000,11b79c000,12c11c000,12c11c000,11e773000,11e773000,115681000,115681000,12f903000,12f903000,112bda000,112bda000,130f54000,130f54000,130f1d000,130f1d000,130f0f000,130f0f000,1254ed000,1254ed000,125def000,125def000,13754d000,13754d000,12f4df000,12f4df000,1345ed000,1345ed000,12b2ba000,12b2ba000,12a7d5000,12a7d5000,12a493000,12a493000,12a49d000,12a49d000,12e619000,12e619000,1356f8000,1356f8000,13329d000,13329d000,136089000,136089000,11b52c000,11b52c000,12a51c000,12a51c000,12798d000,12798d000,124b15000,124b15000,12434f000,12434f000,115fda000,115fda000,110c21000,110c21000,13642e000,13642e000,13a46c000,13a46c000,12e332000,12e332000,139e69000,139e69000,12ab64000,12ab64000,12c32b000,12c32b000,112ef5000,112ef5000,112efe000,112efe000,112f02000,112f02000,112f1c000,112f1c000,115a79000,115a79000,11562e000,11562e000,12d169000,12d169000,1296b5000,1296b5000,118959000,118959000,11ea3e000,11ea3e000,1201a0000,1201a0000,11b668000,11b668000,1290c1000,1290c1000,118d95000,118d95000,138110000,138110000,130d24000,130d24000,12c57a000,12c57a000,1114e5000,1114e5000,12be99000,12be99000,1142dd000,1142dd000,11346b000,11346b000,11c343000,11c343000,1387c0000,1387c0000,127621000,127621000,1369c6000,1369c6000,11f0bf000,11f0bf000,11998f000,11998f000,137176000,137176000,12c269000,12c269000,12afa4000,12afa4000,128d9b000,128d9b000,122b4a000,122b4a000,128d56000,128d56000\"\n",
    "csv_file_path = 'dmesg.bait_alloc.log'"
   ]
  },
  {
   "cell_type": "code",
   "execution_count": null,
   "metadata": {},
   "outputs": [],
   "source": [
    "%matplotlib inline\n",
    "import matplotlib.pyplot as plt\n",
    "from matplotlib.patches import Rectangle\n",
    "from matplotlib.collections import PatchCollection\n",
    "from matplotlib import ticker\n",
    "import csv\n"
   ]
  },
  {
   "cell_type": "code",
   "execution_count": null,
   "metadata": {},
   "outputs": [],
   "source": [
    "# Read CSV file\n",
    "\n",
    "pfns = []\n",
    "with open(csv_file_path, 'r') as csvfile:\n",
    "    csv_reader = csv.reader(csvfile, delimiter=';')\n",
    "    for row in csv_reader:\n",
    "        pfn = (row[3], int(row[4]), int(row[-1], base=16))\n",
    "        pfns.append(pfn)\n",
    "print(f'loaded {len(pfns)} pfns')\n",
    "\n",
    "pfns"
   ]
  },
  {
   "cell_type": "code",
   "execution_count": null,
   "metadata": {},
   "outputs": [],
   "source": [
    "# Plot intervals with red rectangles\n",
    "\n",
    "x_min = min([pfn for _, _, pfn in pfns])\n",
    "x_max = max([pfn for _, _, pfn in pfns])\n",
    "\n",
    "len_pfns = len(pfns)\n",
    "\n",
    "rects = []\n",
    "block_size = 1>>12\n",
    "for idx, row in enumerate(pfns):\n",
    "    type, order, pfn = row\n",
    "    color = 'red' if type == 'SERVE' else 'yellow'\n",
    "    height = len_pfns-idx if type == 'SERVE' else 1\n",
    "    rects.append(Rectangle((pfn, idx), (2**order) * block_size, height, color=color))\n",
    "\n",
    "\n",
    "bait_alloc_bounds = [int(x, base=16)>>12 for x in bait_alloc_output.split(\",\")]\n",
    "for interval in range(0, len(bait_alloc_bounds), 2):\n",
    "    start = bait_alloc_bounds[interval]\n",
    "    end = bait_alloc_bounds[interval+1]+1\n",
    "    height = 10000\n",
    "    assert end > start\n",
    "    rects.append(Rectangle((start, len_pfns), (end-start)*block_size, height, color='green'))\n",
    "\n",
    "plt.rcParams['figure.dpi'] = 300\n",
    "plt.rcParams['savefig.dpi'] = 300\n",
    "\n",
    "fig, ax = plt.subplots()\n",
    "ax.set_xlim(x_min, x_max)\n",
    "ax.set_ylim(0, len_pfns+height*3/2)\n",
    "ax.invert_yaxis()\n",
    "ax.add_collection(PatchCollection(rects, match_original=True))\n",
    "\n",
    "#rect = Rectangle((bait_alloc_min, 0.45), bait_alloc_max, 0.1, color='green')\n",
    "#ax.add_patch(rect)\n",
    "\n",
    "plt.xlabel('PFN')\n",
    "plt.ylabel('Time')\n",
    "ax.get_xaxis().set_major_locator(ticker.LinearLocator(4))\n",
    "ax.get_xaxis().set_major_formatter(lambda pfn, pos: '0x%x' % int(pfn))\n",
    "plt.title('Allocated PFNs')\n",
    "plt.show()"
   ]
  }
 ],
 "metadata": {
  "kernelspec": {
   "display_name": "venv",
   "language": "python",
   "name": "python3"
  },
  "language_info": {
   "codemirror_mode": {
    "name": "ipython",
    "version": 3
   },
   "file_extension": ".py",
   "mimetype": "text/x-python",
   "name": "python",
   "nbconvert_exporter": "python",
   "pygments_lexer": "ipython3",
   "version": "3.10.12"
  }
 },
 "nbformat": 4,
 "nbformat_minor": 2
}
